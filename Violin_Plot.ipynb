{
 "cells": [
  {
   "cell_type": "code",
   "execution_count": null,
   "metadata": {},
   "outputs": [],
   "source": [
    "import numpy as np\n",
    "import matplotlib.pyplot as plt\n",
    "import os\n",
    "\n",
    "\n",
    "#pointcloudsdummy = np.random.randn(800).reshape((100,8))\n",
    "\n",
    "#pointcloudsdummy = np.random.randint(0,500,3000).reshape((500,6))\n",
    "\n",
    "cwd = os.getcwd()\n",
    "\n",
    "print(cwd)\n",
    "\n",
    "# np.savetxt('features_norm.csv', normalized_object_features, delimiter=',')\n",
    "dataload = np.loadtxt('features_norm.csv', delimiter=',')\n",
    "\n",
    "features_only = dataload[:,1:]\n",
    "\n",
    "print(features_only)\n",
    "\n",
    "# D = np.transpose(features_only)\n",
    "D = features_only\n",
    "\n",
    "# plot:\n",
    "fig, ax = plt.subplots()\n",
    "\n",
    "vp = ax.violinplot(D, widths=1,\n",
    "                   showmeans=False, showmedians=False, showextrema=False)\n",
    "# styling:\n",
    "for body in vp['bodies']:\n",
    "    body.set_alpha(0.9)\n",
    "ax.set(xlim=(0, 7), xticks=np.arange(1, 7),\n",
    "       ylim=(0, 1), yticks=np.arange(1, 1))\n",
    "\n",
    "# height = objectHeight(currentPointCloud)\n",
    "#         volume = convexHull(currentPointCloud_o3d)\n",
    "#         avg_height = objectAverageHeight(currentPointCloud)\n",
    "#         area, ratio = areaBase(currentPointCloud_o3d)\n",
    "#         num_planes = planarityPC(currentPointCloud_o3d)\n",
    "\n",
    "plt.xticks(ticks=[1,2,3,4,5,6],labels=['height','volume','avg_height','area','ratio','num_planes'])\n",
    "\n",
    "plt.show()"
   ]
  },
  {
   "cell_type": "code",
   "execution_count": null,
   "metadata": {},
   "outputs": [],
   "source": []
  }
 ],
 "metadata": {
  "interpreter": {
   "hash": "7c992ca41adb03077bcb72666d8178805f4948a0859095a1f8511e34036f055e"
  },
  "kernelspec": {
   "display_name": "Python 3.8.12",
   "language": "python",
   "name": "python3"
  },
  "language_info": {
   "codemirror_mode": {
    "name": "ipython",
    "version": 3
   },
   "file_extension": ".py",
   "mimetype": "text/x-python",
   "name": "python",
   "nbconvert_exporter": "python",
   "pygments_lexer": "ipython3",
   "version": "3.8.12"
  },
  "orig_nbformat": 4
 },
 "nbformat": 4,
 "nbformat_minor": 2
}
