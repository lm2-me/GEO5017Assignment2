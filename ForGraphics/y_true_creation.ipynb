{
 "cells": [
  {
   "cell_type": "code",
   "execution_count": null,
   "metadata": {},
   "outputs": [],
   "source": [
    "y_true_list = []\n",
    "\n",
    "for i in range(0,100):\n",
    "    y_true_list.append('building')\n",
    "for i in range(0,100):\n",
    "    y_true_list.append('car')\n",
    "for i in range(0,100):\n",
    "    y_true_list.append('fence')\n",
    "for i in range(0,100):\n",
    "    y_true_list.append('pole')\n",
    "for i in range(0,100):\n",
    "    y_true_list.append('tree')\n",
    "\n",
    "# print(y_true_list)\n",
    "print(len(y_true_list))\n",
    "\n",
    "# 000 - 099: building;\n",
    "# 2) 100 - 199: car;\n",
    "# 3) 200 - 299: fence;\n",
    "# 4) 300 - 399: pole;\n",
    "# 5) 400 - 499: tree."
   ]
  },
  {
   "cell_type": "code",
   "execution_count": 2,
   "metadata": {},
   "outputs": [
    {
     "name": "stdout",
     "output_type": "stream",
     "text": [
      "building\n",
      "car\n"
     ]
    }
   ],
   "source": [
    "print(y_true_list[99])\n",
    "print(y_true_list[100])"
   ]
  },
  {
   "cell_type": "code",
   "execution_count": null,
   "metadata": {},
   "outputs": [],
   "source": [
    "import numpy as np\n",
    "y_true = np.array(y_true_list,)\n",
    "\n",
    "# print(y_true)"
   ]
  },
  {
   "cell_type": "code",
   "execution_count": 18,
   "metadata": {},
   "outputs": [
    {
     "name": "stdout",
     "output_type": "stream",
     "text": [
      "c:\\Users\\sebas\\Documents\\GitHub\\GEO5017A2\n"
     ]
    }
   ],
   "source": [
    "import os\n",
    "\n",
    "cwd = os.getcwd()\n",
    "\n",
    "print(cwd)\n",
    "\n",
    "np.savetxt('y_true.csv', y_true, fmt = '%s') # %s means it is a string, this is important\n",
    "# dataload = np.loadtxt('features_norm.csv', delimiter=',')"
   ]
  },
  {
   "cell_type": "code",
   "execution_count": 30,
   "metadata": {},
   "outputs": [],
   "source": [
    "loaded_y_true = np.loadtxt('y_true.csv', dtype= str)"
   ]
  },
  {
   "cell_type": "code",
   "execution_count": 31,
   "metadata": {},
   "outputs": [
    {
     "name": "stdout",
     "output_type": "stream",
     "text": [
      "['building' 'building' 'building' 'building' 'building' 'building'\n",
      " 'building' 'building' 'building' 'building' 'building' 'building'\n",
      " 'building' 'building' 'building' 'building' 'building' 'building'\n",
      " 'building' 'building' 'building' 'building' 'building' 'building'\n",
      " 'building' 'building' 'building' 'building' 'building' 'building'\n",
      " 'building' 'building' 'building' 'building' 'building' 'building'\n",
      " 'building' 'building' 'building' 'building' 'building' 'building'\n",
      " 'building' 'building' 'building' 'building' 'building' 'building'\n",
      " 'building' 'building' 'building' 'building' 'building' 'building'\n",
      " 'building' 'building' 'building' 'building' 'building' 'building'\n",
      " 'building' 'building' 'building' 'building' 'building' 'building'\n",
      " 'building' 'building' 'building' 'building' 'building' 'building'\n",
      " 'building' 'building' 'building' 'building' 'building' 'building'\n",
      " 'building' 'building' 'building' 'building' 'building' 'building'\n",
      " 'building' 'building' 'building' 'building' 'building' 'building'\n",
      " 'building' 'building' 'building' 'building' 'building' 'building'\n",
      " 'building' 'building' 'building' 'building' 'car' 'car' 'car' 'car' 'car'\n",
      " 'car' 'car' 'car' 'car' 'car' 'car' 'car' 'car' 'car' 'car' 'car' 'car'\n",
      " 'car' 'car' 'car' 'car' 'car' 'car' 'car' 'car' 'car' 'car' 'car' 'car'\n",
      " 'car' 'car' 'car' 'car' 'car' 'car' 'car' 'car' 'car' 'car' 'car' 'car'\n",
      " 'car' 'car' 'car' 'car' 'car' 'car' 'car' 'car' 'car' 'car' 'car' 'car'\n",
      " 'car' 'car' 'car' 'car' 'car' 'car' 'car' 'car' 'car' 'car' 'car' 'car'\n",
      " 'car' 'car' 'car' 'car' 'car' 'car' 'car' 'car' 'car' 'car' 'car' 'car'\n",
      " 'car' 'car' 'car' 'car' 'car' 'car' 'car' 'car' 'car' 'car' 'car' 'car'\n",
      " 'car' 'car' 'car' 'car' 'car' 'car' 'car' 'car' 'car' 'car' 'car' 'fence'\n",
      " 'fence' 'fence' 'fence' 'fence' 'fence' 'fence' 'fence' 'fence' 'fence'\n",
      " 'fence' 'fence' 'fence' 'fence' 'fence' 'fence' 'fence' 'fence' 'fence'\n",
      " 'fence' 'fence' 'fence' 'fence' 'fence' 'fence' 'fence' 'fence' 'fence'\n",
      " 'fence' 'fence' 'fence' 'fence' 'fence' 'fence' 'fence' 'fence' 'fence'\n",
      " 'fence' 'fence' 'fence' 'fence' 'fence' 'fence' 'fence' 'fence' 'fence'\n",
      " 'fence' 'fence' 'fence' 'fence' 'fence' 'fence' 'fence' 'fence' 'fence'\n",
      " 'fence' 'fence' 'fence' 'fence' 'fence' 'fence' 'fence' 'fence' 'fence'\n",
      " 'fence' 'fence' 'fence' 'fence' 'fence' 'fence' 'fence' 'fence' 'fence'\n",
      " 'fence' 'fence' 'fence' 'fence' 'fence' 'fence' 'fence' 'fence' 'fence'\n",
      " 'fence' 'fence' 'fence' 'fence' 'fence' 'fence' 'fence' 'fence' 'fence'\n",
      " 'fence' 'fence' 'fence' 'fence' 'fence' 'fence' 'fence' 'fence' 'fence'\n",
      " 'pole' 'pole' 'pole' 'pole' 'pole' 'pole' 'pole' 'pole' 'pole' 'pole'\n",
      " 'pole' 'pole' 'pole' 'pole' 'pole' 'pole' 'pole' 'pole' 'pole' 'pole'\n",
      " 'pole' 'pole' 'pole' 'pole' 'pole' 'pole' 'pole' 'pole' 'pole' 'pole'\n",
      " 'pole' 'pole' 'pole' 'pole' 'pole' 'pole' 'pole' 'pole' 'pole' 'pole'\n",
      " 'pole' 'pole' 'pole' 'pole' 'pole' 'pole' 'pole' 'pole' 'pole' 'pole'\n",
      " 'pole' 'pole' 'pole' 'pole' 'pole' 'pole' 'pole' 'pole' 'pole' 'pole'\n",
      " 'pole' 'pole' 'pole' 'pole' 'pole' 'pole' 'pole' 'pole' 'pole' 'pole'\n",
      " 'pole' 'pole' 'pole' 'pole' 'pole' 'pole' 'pole' 'pole' 'pole' 'pole'\n",
      " 'pole' 'pole' 'pole' 'pole' 'pole' 'pole' 'pole' 'pole' 'pole' 'pole'\n",
      " 'pole' 'pole' 'pole' 'pole' 'pole' 'pole' 'pole' 'pole' 'pole' 'pole'\n",
      " 'tree' 'tree' 'tree' 'tree' 'tree' 'tree' 'tree' 'tree' 'tree' 'tree'\n",
      " 'tree' 'tree' 'tree' 'tree' 'tree' 'tree' 'tree' 'tree' 'tree' 'tree'\n",
      " 'tree' 'tree' 'tree' 'tree' 'tree' 'tree' 'tree' 'tree' 'tree' 'tree'\n",
      " 'tree' 'tree' 'tree' 'tree' 'tree' 'tree' 'tree' 'tree' 'tree' 'tree'\n",
      " 'tree' 'tree' 'tree' 'tree' 'tree' 'tree' 'tree' 'tree' 'tree' 'tree'\n",
      " 'tree' 'tree' 'tree' 'tree' 'tree' 'tree' 'tree' 'tree' 'tree' 'tree'\n",
      " 'tree' 'tree' 'tree' 'tree' 'tree' 'tree' 'tree' 'tree' 'tree' 'tree'\n",
      " 'tree' 'tree' 'tree' 'tree' 'tree' 'tree' 'tree' 'tree' 'tree' 'tree'\n",
      " 'tree' 'tree' 'tree' 'tree' 'tree' 'tree' 'tree' 'tree' 'tree' 'tree'\n",
      " 'tree' 'tree' 'tree' 'tree' 'tree' 'tree' 'tree' 'tree' 'tree' 'tree']\n"
     ]
    }
   ],
   "source": [
    "print(loaded_y_true)"
   ]
  }
 ],
 "metadata": {
  "interpreter": {
   "hash": "7c992ca41adb03077bcb72666d8178805f4948a0859095a1f8511e34036f055e"
  },
  "kernelspec": {
   "display_name": "Python 3.8.12",
   "language": "python",
   "name": "python3"
  },
  "language_info": {
   "codemirror_mode": {
    "name": "ipython",
    "version": 3
   },
   "file_extension": ".py",
   "mimetype": "text/x-python",
   "name": "python",
   "nbconvert_exporter": "python",
   "pygments_lexer": "ipython3",
   "version": "3.8.12"
  },
  "orig_nbformat": 4
 },
 "nbformat": 4,
 "nbformat_minor": 2
}
