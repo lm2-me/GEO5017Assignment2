{
 "cells": [
  {
   "cell_type": "code",
   "execution_count": 10,
   "metadata": {},
   "outputs": [
    {
     "name": "stdout",
     "output_type": "stream",
     "text": [
      "15\n"
     ]
    },
    {
     "data": {
      "text/plain": [
       "KMeans()"
      ]
     },
     "execution_count": 10,
     "metadata": {},
     "output_type": "execute_result"
    }
   ],
   "source": [
    "import numpy\n",
    "\n",
    "a = 5\n",
    "\n",
    "b = 3\n",
    "\n",
    "print(a*b)\n",
    "\n",
    "\n",
    "# import sklearn.cluster\n",
    "\n",
    "from sklearn.cluster import KMeans\n",
    "\n",
    "sklearn.cluster.KMeans()"
   ]
  }
 ],
 "metadata": {
  "interpreter": {
   "hash": "b3e41d97e325b0ef1191c405dc189cae760fd3ae3e729129c43d9a50adc78643"
  },
  "kernelspec": {
   "display_name": "Python 3.8.12",
   "language": "python",
   "name": "python3"
  },
  "language_info": {
   "codemirror_mode": {
    "name": "ipython",
    "version": 3
   },
   "file_extension": ".py",
   "mimetype": "text/x-python",
   "name": "python",
   "nbconvert_exporter": "python",
   "pygments_lexer": "ipython3",
   "version": "3.8.12"
  },
  "orig_nbformat": 4
 },
 "nbformat": 4,
 "nbformat_minor": 2
}
